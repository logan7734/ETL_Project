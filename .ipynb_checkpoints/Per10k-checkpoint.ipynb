{
 "cells": [
  {
   "cell_type": "code",
   "execution_count": 10,
   "metadata": {},
   "outputs": [],
   "source": [
    "from splinter import Browser\n",
    "from splinter.exceptions import ElementDoesNotExist\n",
    "from bs4 import BeautifulSoup\n",
    "import pandas as pd"
   ]
  },
  {
   "cell_type": "code",
   "execution_count": 3,
   "metadata": {},
   "outputs": [],
   "source": [
    "executable_path = {'executable_path': 'chromedriver.exe'}\n",
    "browser = Browser('chrome', **executable_path, headless=False)"
   ]
  },
  {
   "cell_type": "code",
   "execution_count": 4,
   "metadata": {},
   "outputs": [],
   "source": [
    "url = \"https://www.thrillist.com/news/nation/states-with-most-fast-food-restaurants-datafiniti\"\n",
    "browser.visit(url)\n",
    "\n",
    "html = browser.html\n",
    "soup = BeautifulSoup(html, 'html.parser')"
   ]
  },
  {
   "cell_type": "code",
   "execution_count": 5,
   "metadata": {},
   "outputs": [
    {
     "name": "stdout",
     "output_type": "stream",
     "text": [
      "51. Vermont: 1.9 per capita50. New Jersey: 2.0 per capita49. New York: 2.1 per capita48. Mississippi: 2.1 per capita47. Connecticut: 2.4 per capita46. Rhode Island: 2.5 per capita45. Alaska: 2.6 per capita44. Massachusetts: 3.1 per capita43. Maine: 3.1 per capita42. Washington: 3.1 per capita41. Hawaii: 3.2 per capita40. Pennsylvania: 3.2 per capita39. New Hampshire: 3.2 per capita38. Florida: 3.3 per capita37. California: 3.6 per capita36. Oregon: 3.6 per capita35. Utah: 3.6 per capita34. North Dakota: 3.6 per capita33. Minnesota: 3.7 per capita32. Montana: 3.8 per capita31. Idaho: 3.8 per capita30. Maryland: 3.9 per capita29. Wisconsin: 4.0 per capita28. Michigan: 4.0 per capita27. Colorado: 4.0 per capita26. Wyoming: 4.1 per capita25. Delaware: 4.1 per capita24. Virginia: 4.3 per capita23. South Dakota: 4.3 per capita22. New Mexico: 4.3 per capita21. Texas: 4.3 per capita20. Louisiana: 4.4 per capita19. Illinois: 4.5 per capita18. North Carolina: 4.5 per capita17. Arizona: 4.6 per capita16. Iowa: 4.7 per capita15. Kansas: 4.7 per capita14. Arkansas: 4.7 per capita13. Ohio: 4.7 per capita12. Nevada: 4.7 per capita11. Kentucky: 4.8 per capita10. South Carolina: 4.9 per capita9. Missouri: 4.9 per capita8. Georgia: 4.9 per capita7. Washington, DC: 5.0 per capita6. Indiana: 5.0 per capita5. Tennessee: 5.2 per capita4. Oklahoma: 5.3 per capita3. West Virginia: 5.3 per capita2. Nebraska: 5.4 per capita1. Alabama 6.3 per capita\n"
     ]
    }
   ],
   "source": [
    "not_a_list = soup.find_all(\"p\",class_=\"body-text__paragraph-text font--body has-spacing\")\n",
    "\n",
    "for word_vomit in not_a_list:\n",
    "    fubar = word_vomit.text\n",
    "    if fubar[0:2] == \"51\":\n",
    "        break\n",
    "print(fubar)"
   ]
  },
  {
   "cell_type": "code",
   "execution_count": 6,
   "metadata": {},
   "outputs": [
    {
     "data": {
      "text/plain": [
       "['Vermont: 1.9 per 10k residents',\n",
       " 'New Jersey: 2.0 per 10k residents',\n",
       " 'New York: 2.1 per 10k residents',\n",
       " 'Mississippi: 2.1 per 10k residents',\n",
       " 'Connecticut: 2.4 per 10k residents',\n",
       " 'Rhode Island: 2.5 per 10k residents',\n",
       " 'Alaska: 2.6 per 10k residents',\n",
       " 'Massachusetts: 3.1 per 10k residents',\n",
       " 'Maine: 3.1 per 10k residents',\n",
       " 'Washington: 3.1 per 10k residents',\n",
       " 'Hawaii: 3.2 per 10k residents',\n",
       " 'Pennsylvania: 3.2 per 10k residents',\n",
       " 'New Hampshire: 3.2 per 10k residents',\n",
       " 'Florida: 3.3 per 10k residents',\n",
       " 'California: 3.6 per 10k residents',\n",
       " 'Oregon: 3.6 per 10k residents',\n",
       " 'Utah: 3.6 per 10k residents',\n",
       " 'North Dakota: 3.6 per 10k residents',\n",
       " 'Minnesota: 3.7 per 10k residents',\n",
       " 'Montana: 3.8 per 10k residents',\n",
       " 'Idaho: 3.8 per 10k residents',\n",
       " 'Maryland: 3.9 per 10k residents',\n",
       " 'Wisconsin: 4.0 per 10k residents',\n",
       " 'Michigan: 4.0 per 10k residents',\n",
       " 'Colorado: 4.0 per 10k residents',\n",
       " 'Wyoming: 4.1 per 10k residents',\n",
       " 'Delaware: 4.1 per 10k residents',\n",
       " 'Virginia: 4.3 per 10k residents',\n",
       " 'South Dakota: 4.3 per 10k residents',\n",
       " 'New Mexico: 4.3 per 10k residents',\n",
       " 'Texas: 4.3 per 10k residents',\n",
       " 'Louisiana: 4.4 per 10k residents',\n",
       " 'Illinois: 4.5 per 10k residents',\n",
       " 'North Carolina: 4.5 per 10k residents',\n",
       " 'Arizona: 4.6 per 10k residents',\n",
       " 'Iowa: 4.7 per 10k residents',\n",
       " 'Kansas: 4.7 per 10k residents',\n",
       " 'Arkansas: 4.7 per 10k residents',\n",
       " 'Ohio: 4.7 per 10k residents',\n",
       " 'Nevada: 4.7 per 10k residents',\n",
       " 'Kentucky: 4.8 per 10k residents',\n",
       " 'South Carolina: 4.9 per 10k residents',\n",
       " 'Missouri: 4.9 per 10k residents',\n",
       " 'Georgia: 4.9 per 10k residents',\n",
       " 'Washington, DC: 5.0 per 10k residents',\n",
       " 'Indiana: 5.0 per 10k residents',\n",
       " 'Tennessee: 5.2 per 10k residents',\n",
       " 'Oklahoma: 5.3 per 10k residents',\n",
       " 'West Virginia: 5.3 per 10k residents',\n",
       " 'Nebraska: 5.4 per 10k residents',\n",
       " 'Alabama 6.3 per 10k residents']"
      ]
     },
     "execution_count": 6,
     "metadata": {},
     "output_type": "execute_result"
    }
   ],
   "source": [
    "parts = fubar.split(\". \")\n",
    "parts.pop(0)\n",
    "parts = [part.split(\"capita\")[0]+\"10k residents\" for part in parts]\n",
    "parts"
   ]
  },
  {
   "cell_type": "code",
   "execution_count": 7,
   "metadata": {},
   "outputs": [
    {
     "data": {
      "text/plain": [
       "[['Vermont', ' 1.9 per 10k residents'],\n",
       " ['New Jersey', ' 2.0 per 10k residents'],\n",
       " ['New York', ' 2.1 per 10k residents'],\n",
       " ['Mississippi', ' 2.1 per 10k residents'],\n",
       " ['Connecticut', ' 2.4 per 10k residents'],\n",
       " ['Rhode Island', ' 2.5 per 10k residents'],\n",
       " ['Alaska', ' 2.6 per 10k residents'],\n",
       " ['Massachusetts', ' 3.1 per 10k residents'],\n",
       " ['Maine', ' 3.1 per 10k residents'],\n",
       " ['Washington', ' 3.1 per 10k residents'],\n",
       " ['Hawaii', ' 3.2 per 10k residents'],\n",
       " ['Pennsylvania', ' 3.2 per 10k residents'],\n",
       " ['New Hampshire', ' 3.2 per 10k residents'],\n",
       " ['Florida', ' 3.3 per 10k residents'],\n",
       " ['California', ' 3.6 per 10k residents'],\n",
       " ['Oregon', ' 3.6 per 10k residents'],\n",
       " ['Utah', ' 3.6 per 10k residents'],\n",
       " ['North Dakota', ' 3.6 per 10k residents'],\n",
       " ['Minnesota', ' 3.7 per 10k residents'],\n",
       " ['Montana', ' 3.8 per 10k residents'],\n",
       " ['Idaho', ' 3.8 per 10k residents'],\n",
       " ['Maryland', ' 3.9 per 10k residents'],\n",
       " ['Wisconsin', ' 4.0 per 10k residents'],\n",
       " ['Michigan', ' 4.0 per 10k residents'],\n",
       " ['Colorado', ' 4.0 per 10k residents'],\n",
       " ['Wyoming', ' 4.1 per 10k residents'],\n",
       " ['Delaware', ' 4.1 per 10k residents'],\n",
       " ['Virginia', ' 4.3 per 10k residents'],\n",
       " ['South Dakota', ' 4.3 per 10k residents'],\n",
       " ['New Mexico', ' 4.3 per 10k residents'],\n",
       " ['Texas', ' 4.3 per 10k residents'],\n",
       " ['Louisiana', ' 4.4 per 10k residents'],\n",
       " ['Illinois', ' 4.5 per 10k residents'],\n",
       " ['North Carolina', ' 4.5 per 10k residents'],\n",
       " ['Arizona', ' 4.6 per 10k residents'],\n",
       " ['Iowa', ' 4.7 per 10k residents'],\n",
       " ['Kansas', ' 4.7 per 10k residents'],\n",
       " ['Arkansas', ' 4.7 per 10k residents'],\n",
       " ['Ohio', ' 4.7 per 10k residents'],\n",
       " ['Nevada', ' 4.7 per 10k residents'],\n",
       " ['Kentucky', ' 4.8 per 10k residents'],\n",
       " ['South Carolina', ' 4.9 per 10k residents'],\n",
       " ['Missouri', ' 4.9 per 10k residents'],\n",
       " ['Georgia', ' 4.9 per 10k residents'],\n",
       " ['Washington, DC', ' 5.0 per 10k residents'],\n",
       " ['Indiana', ' 5.0 per 10k residents'],\n",
       " ['Tennessee', ' 5.2 per 10k residents'],\n",
       " ['Oklahoma', ' 5.3 per 10k residents'],\n",
       " ['West Virginia', ' 5.3 per 10k residents'],\n",
       " ['Nebraska', ' 5.4 per 10k residents'],\n",
       " ['Alabama', ' 6.3 per 10k residents']]"
      ]
     },
     "execution_count": 7,
     "metadata": {},
     "output_type": "execute_result"
    }
   ],
   "source": [
    "separateButEqual = [part.split(\":\") for part in parts]\n",
    "#Because they forgot a : after Alabama\n",
    "separateButEqual[len(separateButEqual)-1] = separateButEqual[len(separateButEqual)-1][0].split(\" \",1)\n",
    "separateButEqual[len(separateButEqual)-1][1] = \" \"+separateButEqual[len(separateButEqual)-1][1]\n",
    "separateButEqual"
   ]
  },
  {
   "cell_type": "code",
   "execution_count": 8,
   "metadata": {},
   "outputs": [
    {
     "data": {
      "text/plain": [
       "['Vermont',\n",
       " 'New Jersey',\n",
       " 'New York',\n",
       " 'Mississippi',\n",
       " 'Connecticut',\n",
       " 'Rhode Island',\n",
       " 'Alaska',\n",
       " 'Massachusetts',\n",
       " 'Maine',\n",
       " 'Washington',\n",
       " 'Hawaii',\n",
       " 'Pennsylvania',\n",
       " 'New Hampshire',\n",
       " 'Florida',\n",
       " 'California',\n",
       " 'Oregon',\n",
       " 'Utah',\n",
       " 'North Dakota',\n",
       " 'Minnesota',\n",
       " 'Montana',\n",
       " 'Idaho',\n",
       " 'Maryland',\n",
       " 'Wisconsin',\n",
       " 'Michigan',\n",
       " 'Colorado',\n",
       " 'Wyoming',\n",
       " 'Delaware',\n",
       " 'Virginia',\n",
       " 'South Dakota',\n",
       " 'New Mexico',\n",
       " 'Texas',\n",
       " 'Louisiana',\n",
       " 'Illinois',\n",
       " 'North Carolina',\n",
       " 'Arizona',\n",
       " 'Iowa',\n",
       " 'Kansas',\n",
       " 'Arkansas',\n",
       " 'Ohio',\n",
       " 'Nevada',\n",
       " 'Kentucky',\n",
       " 'South Carolina',\n",
       " 'Missouri',\n",
       " 'Georgia',\n",
       " 'Washington, DC',\n",
       " 'Indiana',\n",
       " 'Tennessee',\n",
       " 'Oklahoma',\n",
       " 'West Virginia',\n",
       " 'Nebraska',\n",
       " 'Alabama']"
      ]
     },
     "execution_count": 8,
     "metadata": {},
     "output_type": "execute_result"
    }
   ],
   "source": [
    "states = [part[0] for part in separateButEqual]\n",
    "states"
   ]
  },
  {
   "cell_type": "code",
   "execution_count": 9,
   "metadata": {},
   "outputs": [
    {
     "data": {
      "text/plain": [
       "['1.9',\n",
       " '2.0',\n",
       " '2.1',\n",
       " '2.1',\n",
       " '2.4',\n",
       " '2.5',\n",
       " '2.6',\n",
       " '3.1',\n",
       " '3.1',\n",
       " '3.1',\n",
       " '3.2',\n",
       " '3.2',\n",
       " '3.2',\n",
       " '3.3',\n",
       " '3.6',\n",
       " '3.6',\n",
       " '3.6',\n",
       " '3.6',\n",
       " '3.7',\n",
       " '3.8',\n",
       " '3.8',\n",
       " '3.9',\n",
       " '4.0',\n",
       " '4.0',\n",
       " '4.0',\n",
       " '4.1',\n",
       " '4.1',\n",
       " '4.3',\n",
       " '4.3',\n",
       " '4.3',\n",
       " '4.3',\n",
       " '4.4',\n",
       " '4.5',\n",
       " '4.5',\n",
       " '4.6',\n",
       " '4.7',\n",
       " '4.7',\n",
       " '4.7',\n",
       " '4.7',\n",
       " '4.7',\n",
       " '4.8',\n",
       " '4.9',\n",
       " '4.9',\n",
       " '4.9',\n",
       " '5.0',\n",
       " '5.0',\n",
       " '5.2',\n",
       " '5.3',\n",
       " '5.3',\n",
       " '5.4',\n",
       " '6.3']"
      ]
     },
     "execution_count": 9,
     "metadata": {},
     "output_type": "execute_result"
    }
   ],
   "source": [
    "perTenKResidents = [part[1].split(\" \",2)[1] for part in separateButEqual]\n",
    "perTenKResidents"
   ]
  },
  {
   "cell_type": "code",
   "execution_count": 32,
   "metadata": {},
   "outputs": [
    {
     "data": {
      "text/html": [
       "<div>\n",
       "<style scoped>\n",
       "    .dataframe tbody tr th:only-of-type {\n",
       "        vertical-align: middle;\n",
       "    }\n",
       "\n",
       "    .dataframe tbody tr th {\n",
       "        vertical-align: top;\n",
       "    }\n",
       "\n",
       "    .dataframe thead th {\n",
       "        text-align: right;\n",
       "    }\n",
       "</style>\n",
       "<table border=\"1\" class=\"dataframe\">\n",
       "  <thead>\n",
       "    <tr style=\"text-align: right;\">\n",
       "      <th></th>\n",
       "      <th>state_id</th>\n",
       "      <th>states</th>\n",
       "      <th>restaurants_per_10k_residents</th>\n",
       "    </tr>\n",
       "  </thead>\n",
       "  <tbody>\n",
       "    <tr>\n",
       "      <th>0</th>\n",
       "      <td>1</td>\n",
       "      <td>Alabama</td>\n",
       "      <td>6.3</td>\n",
       "    </tr>\n",
       "    <tr>\n",
       "      <th>1</th>\n",
       "      <td>2</td>\n",
       "      <td>Alaska</td>\n",
       "      <td>2.6</td>\n",
       "    </tr>\n",
       "    <tr>\n",
       "      <th>2</th>\n",
       "      <td>3</td>\n",
       "      <td>Arizona</td>\n",
       "      <td>4.6</td>\n",
       "    </tr>\n",
       "    <tr>\n",
       "      <th>3</th>\n",
       "      <td>4</td>\n",
       "      <td>Arkansas</td>\n",
       "      <td>4.7</td>\n",
       "    </tr>\n",
       "    <tr>\n",
       "      <th>4</th>\n",
       "      <td>5</td>\n",
       "      <td>California</td>\n",
       "      <td>3.6</td>\n",
       "    </tr>\n",
       "  </tbody>\n",
       "</table>\n",
       "</div>"
      ],
      "text/plain": [
       "   state_id      states restaurants_per_10k_residents\n",
       "0         1     Alabama                           6.3\n",
       "1         2      Alaska                           2.6\n",
       "2         3     Arizona                           4.6\n",
       "3         4    Arkansas                           4.7\n",
       "4         5  California                           3.6"
      ]
     },
     "execution_count": 32,
     "metadata": {},
     "output_type": "execute_result"
    }
   ],
   "source": [
    "df = pd.DataFrame([states, perTenKResidents]).transpose()\n",
    "df = df.sort_values(by=0)\n",
    "df.reset_index(drop = True, inplace=True)\n",
    "df = df.reset_index(drop=False)\n",
    "df.columns = [\"state_id\",\"states\",\"restaurants_per_10k_residents\"]\n",
    "df[\"state_id\"] += 1\n",
    "df.head()"
   ]
  },
  {
   "cell_type": "code",
   "execution_count": 37,
   "metadata": {},
   "outputs": [],
   "source": [
    "df.to_csv(\"States.csv\",index=False, columns=[\"state_id\",\"states\"])"
   ]
  },
  {
   "cell_type": "code",
   "execution_count": 38,
   "metadata": {},
   "outputs": [],
   "source": [
    "df.to_csv(\"Num_Restaurants.csv\",index=False, columns=[\"state_id\",\"restaurants_per_10k_residents\"])"
   ]
  }
 ],
 "metadata": {
  "kernelspec": {
   "display_name": "Python 3",
   "language": "python",
   "name": "python3"
  },
  "language_info": {
   "codemirror_mode": {
    "name": "ipython",
    "version": 3
   },
   "file_extension": ".py",
   "mimetype": "text/x-python",
   "name": "python",
   "nbconvert_exporter": "python",
   "pygments_lexer": "ipython3",
   "version": "3.7.1"
  }
 },
 "nbformat": 4,
 "nbformat_minor": 2
}
