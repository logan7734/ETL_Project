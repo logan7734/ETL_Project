{
 "cells": [
  {
   "cell_type": "code",
   "execution_count": 1,
   "metadata": {},
   "outputs": [],
   "source": [
    "import pandas as pd\n",
    "\n",
    "url='https://en.wikipedia.org/wiki/List_of_U.S._states_by_vehicles_per_capita'"
   ]
  },
  {
   "cell_type": "code",
   "execution_count": 5,
   "metadata": {},
   "outputs": [],
   "source": [
    "tables = pd.read_html(url)\n",
    "\n",
    "df_2015=tables[0]\n",
    "df_2017=tables[1]\n",
    "\n",
    "headers = df_2015.iloc[0]\n",
    "df_2015 = df_2015[1:]\n",
    "df_2015.columns = headers\n",
    "df_2015 = df_2015.set_index('Rank')\n",
    "\n",
    "headers = df_2017.iloc[0]\n",
    "df_2017 = df_2017[1:]\n",
    "df_2017.columns = headers\n",
    "df_2017 = df_2017.set_index('Rank')"
   ]
  },
  {
   "cell_type": "code",
   "execution_count": 8,
   "metadata": {},
   "outputs": [],
   "source": [
    "df_2015.to_csv('..Resources/wikidata_2015.csv')\n",
    "df_2018.to_csv('..Resources/wikidata_2018.csv')"
   ]
  },
  {
   "cell_type": "code",
   "execution_count": null,
   "metadata": {},
   "outputs": [],
   "source": []
  },
  {
   "cell_type": "code",
   "execution_count": null,
   "metadata": {},
   "outputs": [],
   "source": []
  }
 ],
 "metadata": {
  "kernelspec": {
   "display_name": "Python 3",
   "language": "python",
   "name": "python3"
  },
  "language_info": {
   "codemirror_mode": {
    "name": "ipython",
    "version": 3
   },
   "file_extension": ".py",
   "mimetype": "text/x-python",
   "name": "python",
   "nbconvert_exporter": "python",
   "pygments_lexer": "ipython3",
   "version": "3.7.1"
  }
 },
 "nbformat": 4,
 "nbformat_minor": 2
}
